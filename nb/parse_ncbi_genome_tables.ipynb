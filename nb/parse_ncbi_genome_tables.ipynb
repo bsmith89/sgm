{
 "cells": [
  {
   "cell_type": "code",
   "execution_count": null,
   "metadata": {},
   "outputs": [],
   "source": [
    "import pandas as pd"
   ]
  },
  {
   "cell_type": "code",
   "execution_count": null,
   "metadata": {},
   "outputs": [],
   "source": [
    "data.columns"
   ]
  },
  {
   "cell_type": "code",
   "execution_count": null,
   "metadata": {},
   "outputs": [],
   "source": [
    "rename_map = { 'Organism Name': 'name'\n",
    "                    , 'Organism Groups': 'taxonomy_string'\n",
    "#                    , 'Level': 'assembly_completeness'\n",
    "#                    , 'Size(Mb)': 'total_length'\n",
    "#                    , 'GC%': 'gc_percent'\n",
    "                    , 'Replicons': 'replicons_string'\n",
    "#                    , 'Scaffolds': 'scaffold_tally'\n",
    "#                    , 'CDS': 'cds_tally'\n",
    "#                    , 'Release Date': 'release_date'\n",
    "#                    , 'GenBank FTP': 'genbank_ftp_url'\n",
    "                    , 'RefSeq FTP': 'refseq_ftp_url'\n",
    "#                    , 'Genes': 'gene_tally\n",
    "#                    , 'Host': 'host_name'\n",
    "#                    , 'Modify Date': 'modify_date'\n",
    "                    }\n",
    "\n"
   ]
  },
  {
   "cell_type": "code",
   "execution_count": null,
   "metadata": {},
   "outputs": [],
   "source": [
    "data = pd.read_csv('meta/ncbi_genomes.csv').rename(columns={'#Organism Name': 'Organism Name'})\n",
    "data = data.rename(columns=rename_map)\n",
    "\n",
    "def orgname_to_id(name):\n",
    "    'Transform name from NCBI into a normalized genome_id'\n",
    "    out = name\n",
    "    words = out.split(' ')\n",
    "    # Filter out non-alpha characters from genus word.\n",
    "    words[0] = ''.join(filter(str.isalpha, words[0]))\n",
    "    # Replace genus with first letter.\n",
    "    words[0] = words[0][0]\n",
    "    # Drop the part after a '=' word (synonym?)\n",
    "    if '=' in words:\n",
    "        words = words[:words.index('=')]\n",
    "    # Remove uneccessary modifier words.\n",
    "    words = filter(lambda s: s not in ['str.', 'substr.', 'subsp.', 'bv.', 'biovar'], words)\n",
    "    out = '_'.join(words)\n",
    "    # Replace with better characters\n",
    "    for char in [':', '-', '/', '=', '.']:\n",
    "        out = out.replace(char, '_')\n",
    "    for char in ['(', ')', \"'\"]:\n",
    "        out = out.replace(char, '')\n",
    "\n",
    "    # Check only legal characters\n",
    "    for char in out:\n",
    "        assert char.isalnum() or char == '_', (name, out)\n",
    "\n",
    "    return out\n",
    "\n",
    "data['genome_id'] = data.name.map(orgname_to_id)\n",
    "assert data.genome_id.is_unique\n",
    "\n",
    "data"
   ]
  },
  {
   "cell_type": "code",
   "execution_count": null,
   "metadata": {},
   "outputs": [],
   "source": [
    "def parse_replicon(r):\n",
    "    r = r.strip()\n",
    "    name, accessions = r.split(':')\n",
    "    if name.startswith('chromosome'):\n",
    "        replicon_type = 'chromosome'\n",
    "    elif name.startswith('plasmid'):\n",
    "        replicon_type = 'plasmid'\n",
    "    if '/' in accessions:\n",
    "        refseq_id, genbank_id = accessions.split('/')\n",
    "    else:\n",
    "        genbank_id = accessions\n",
    "        refseq_id = ''\n",
    "    return name, replicon_type, refseq_id, genbank_id\n",
    "\n",
    "def flatten_replicons(x):\n",
    "    # replicons string is \"<chromosome name>\" or \"plasmid\" followed by \":<refseq>/<genbank>\"\n",
    "    genome_id = x.genome_id\n",
    "    replicons = [parse_replicon(r) for r in x.replicons_string.split(';')]\n",
    "    for r in replicons:\n",
    "        yield tuple([genome_id]) + r\n",
    "        \n",
    "replicons = []\n",
    "for _, g in data.iterrows():\n",
    "    for r in flatten_replicons(g):\n",
    "        replicons.append(r)\n",
    "        \n",
    "replicons = pd.DataFrame(replicons, columns=['genome_id', 'replicon_name', 'replicon_type', 'refseq_id', 'genbank_id'])\n",
    "replicons"
   ]
  }
 ],
 "metadata": {
  "kernelspec": {
   "display_name": "Python 3",
   "language": "python",
   "name": "python3"
  },
  "language_info": {
   "codemirror_mode": {
    "name": "ipython",
    "version": 3
   },
   "file_extension": ".py",
   "mimetype": "text/x-python",
   "name": "python",
   "nbconvert_exporter": "python",
   "pygments_lexer": "ipython3",
   "version": "3.6.7"
  }
 },
 "nbformat": 4,
 "nbformat_minor": 2
}