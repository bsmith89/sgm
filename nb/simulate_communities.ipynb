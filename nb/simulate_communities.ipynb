{
 "cells": [
  {
   "cell_type": "code",
   "execution_count": null,
   "metadata": {},
   "outputs": [],
   "source": [
    "import pandas as pd\n",
    "import scipy as sp\n",
    "import numpy as np"
   ]
  },
  {
   "cell_type": "code",
   "execution_count": null,
   "metadata": {},
   "outputs": [],
   "source": [
    "replicon = pd.read_table('data/replicon.tsv')"
   ]
  },
  {
   "cell_type": "code",
   "execution_count": null,
   "metadata": {},
   "outputs": [],
   "source": [
    "PLASMID_MULTI = 10\n",
    "\n",
    "genome_list = ['Escherichia_coli_K_12_MG1655', 'Escherichia_coli_S88',\n",
    "               'Faecalibacterium_prausnitzii_A2165',\n",
    "               'Bacteroides_vulgatus_ATCC_8482']  # genome_ids for each genome\n",
    "means = [4, 4, 10, 10]  # Per-organism mean abundance\n",
    "stdev = [0.2, 0.2, 0.2, 0.2]  # Per-organism standard deviation of the log-abundance\n",
    "nreads = int(1e5)\n",
    "alpha = 50\n",
    "\n",
    "\n",
    "assert len(genome_list) == len(means)\n",
    "assert len(genome_list) == len(stdev)"
   ]
  },
  {
   "cell_type": "code",
   "execution_count": null,
   "metadata": {},
   "outputs": [],
   "source": [
    "sp.random.seed(1)\n",
    "genome_abund = sp.random.lognormal(mean=np.log(means), sigma=stdev)\n",
    "print(genome_abund)\n",
    "\n",
    "sim_replicon = replicon[replicon.genome_id.isin(genome_list)].copy()\n",
    "sim_replicon['copies'] = np.nan\n",
    "sim_replicon['org_abund'] = np.nan\n",
    "\n",
    "for i, genome_id in enumerate(genome_list):\n",
    "    sim_replicon.loc[(replicon.genome_id == genome_id),\n",
    "                     'org_abund'] = genome_abund[i]\n",
    "    sim_replicon.loc[((replicon.genome_id == genome_id) &\n",
    "                      (replicon.replicon_type == 'chromosome')),\n",
    "                     'copies'] = genome_abund[i]\n",
    "    sim_replicon.loc[((replicon.genome_id == genome_id) &\n",
    "                      (replicon.replicon_type == 'plasmid')),\n",
    "                     'copies'] = genome_abund[i] * PLASMID_MULTI\n",
    "    \n",
    "assert set(sim_replicon.genome_id) == set(genome_list)\n",
    "    \n",
    "sim_replicon['rabund'] = sim_replicon['org_abund'] / sim_replicon['org_abund'].sum()\n",
    "sim_replicon['nucabund'] = (sim_replicon['size'] * sim_replicon['copies'])\n",
    "sim_replicon['pread'] = sim_replicon['nucabund'] / sim_replicon['nucabund'].sum()\n",
    "sim_replicon['nreads'] = np.random.multinomial(nreads, np.random.dirichlet(sim_replicon['pread'] * alpha))\n",
    "sim_replicon[['genome_id', 'replicon_id', 'genbank_id', 'size', 'rabund', 'pread', 'nreads']]"
   ]
  },
  {
   "cell_type": "code",
   "execution_count": null,
   "metadata": {},
   "outputs": [],
   "source": [
    "from iss.generator import simulate_read\n",
    "from iss.error_models.kde import KDErrorModel\n",
    "import iss\n",
    "import os.path\n",
    "from os import listdir\n",
    "import sys\n",
    "from tqdm import trange\n",
    "\n",
    "err_model = KDErrorModel(os.path.join(iss.__path__[0], 'profiles/HiSeq'))\n",
    "\n",
    "from Bio.SeqIO import index as seq_file_index\n",
    "from Bio.SeqIO import write as write_seq\n",
    "\n",
    "path1 = 'test_1.fq'\n",
    "path2 = 'test_2.fq'\n",
    "print(f'Simulating reads to {path1} and {path2}', file=sys.stderr)\n",
    "\n",
    "with open(path1, 'w') as handle1, open(path2, 'w') as handle2:\n",
    "    for genome_id, g in sim_replicon.groupby('genome_id'):\n",
    "        print(f'Simulating reads for genome {genome_id}', file=sys.stderr)\n",
    "        seqs = seq_file_index('ref/genome/' + genome_id + '.fn', 'fasta')\n",
    "        for _, r in g.iterrows():\n",
    "            print(f'Simulating reads for replicon {r.replicon_id}', file=sys.stderr)\n",
    "            record = seqs[r.genbank_id]\n",
    "            for i in trange(r.nreads):\n",
    "                paired_reads = simulate_read(record, err_model, i)\n",
    "                write_seq(paired_reads[0], handle1, 'fastq-sanger')\n",
    "                write_seq(paired_reads[1], handle2, 'fastq-sanger')"
   ]
  }
 ],
 "metadata": {
  "kernelspec": {
   "display_name": "Python 3",
   "language": "python",
   "name": "python3"
  },
  "language_info": {
   "codemirror_mode": {
    "name": "ipython",
    "version": 3
   },
   "file_extension": ".py",
   "mimetype": "text/x-python",
   "name": "python",
   "nbconvert_exporter": "python",
   "pygments_lexer": "ipython3",
   "version": "3.6.7"
  }
 },
 "nbformat": 4,
 "nbformat_minor": 2
}